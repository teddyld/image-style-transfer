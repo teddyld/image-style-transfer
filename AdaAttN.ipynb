{
 "cells": [
  {
   "cell_type": "markdown",
   "metadata": {},
   "source": [
    "# AdaAttN Style Transfer\n",
    "\n",
    "This notebook demonstrates the use of the AdaAttN model for style transfer.\n",
    "\n",
    "## Imports"
   ]
  },
  {
   "cell_type": "code",
   "execution_count": null,
   "metadata": {},
   "outputs": [],
   "source": [
    "\n",
    "import torch\n",
    "import torch.nn as nn\n",
    "import torchvision.transforms as transforms\n",
    "import utils.data as data\n",
    "from utils.eval import compute_ssim, plot_results\n",
    "from models import AdaAttN\n",
    "\n",
    "device = torch.device(\"cuda\" if torch.cuda.is_available() else \"cpu\")\n"
   ]
  },
  {
   "cell_type": "markdown",
   "metadata": {},
   "source": [
    "# Dataset and Dataloaders"
   ]
  },
  {
   "cell_type": "code",
   "execution_count": null,
   "metadata": {},
   "outputs": [],
   "source": [
    "val_tf = transforms.Compose([\n",
    "    transforms.Resize(size=(128, 128)),\n",
    "    transforms.ToTensor(),\n",
    "])\n",
    "\n",
    "_, content_validloader, _, _, style_validloader, _ = data.get_dataloaders(bs=64, valid_tf=val_tf)\n"
   ]
  },
  {
   "cell_type": "markdown",
   "metadata": {},
   "source": [
    "# Load Pretrained Models"
   ]
  },
  {
   "cell_type": "code",
   "execution_count": null,
   "metadata": {},
   "outputs": [],
   "source": [
    "decoder = AdaAttN.Decoder()\n",
    "vgg = AdaAttN.VGG()\n",
    "\n",
    "# Load pretrained weights if available\n",
    "decoder.load_state_dict(torch.load(\"models/output/AdaAttN/decoder.pth\"))\n",
    "vgg.load_state_dict(torch.load(\"models/output/AdaAttN/vgg_normalised.pth\"))\n",
    "vgg = nn.Sequential(*list(vgg.children())[:31])\n",
    "\n",
    "decoder.to(device)\n",
    "vgg.to(device)\n",
    "\n",
    "model = AdaAttN.AdaAttnModel(decoder, vgg, in_planes=512, key_planes=512)\n",
    "model.to(device)\n"
   ]
  },
  {
   "cell_type": "markdown",
   "metadata": {},
   "source": [
    "# Model Evaluation Functions"
   ]
  },
  {
   "cell_type": "code",
   "execution_count": null,
   "metadata": {},
   "outputs": [],
   "source": [
    "def evaluate_model(model, content_loader, style_loader):\n",
    "    model.eval()\n",
    "    total_samples = 0\n",
    "    running_content_loss, running_style_loss = 0.0, 0.0\n",
    "    with torch.no_grad():\n",
    "        for content, style in zip(content_loader, style_loader):\n",
    "            content_images = content.to(device)\n",
    "            style_images, style_labels = style\n",
    "            style_images, style_labels = style_images.to(device), style_labels.to(device)\n",
    "            \n",
    "            stylized_images = model(content_images, style_images)\n",
    "            \n",
    "            content_loss = model.calc_content_loss(stylized_images, content_images)\n",
    "            style_loss = model.calc_style_loss(stylized_images, style_images)\n",
    "            \n",
    "            running_content_loss += content_loss.item()\n",
    "            running_style_loss += style_loss.item()\n",
    "            \n",
    "            if total_samples == 0:\n",
    "                plot_results(content_images, style_images, style_labels, stylized_images)\n",
    "            total_samples += style_labels.size(0)\n",
    "            \n",
    "    avg_ssim = compute_ssim(content_images, stylized_images) / total_samples\n",
    "    avg_content_loss = running_content_loss / total_samples\n",
    "    avg_style_loss = running_style_loss / total_samples\n",
    "    return avg_ssim, avg_content_loss, avg_style_loss\n"
   ]
  },
  {
   "cell_type": "markdown",
   "metadata": {},
   "source": [
    "# Results"
   ]
  },
  {
   "cell_type": "code",
   "execution_count": null,
   "metadata": {},
   "outputs": [],
   "source": [
    "AdaAttN_ssim, AdaAttN_content_loss, AdaAttN_style_loss = evaluate_model(model, content_validloader, style_validloader)\n",
    "print(\"--- AdaAttN results ---\")\n",
    "print(f'Average SSIM = {AdaAttN_ssim: .4f}')\n",
    "print(f\"Average content loss = {AdaAttN_content_loss:.4f}\")\n",
    "print(f\"Average style loss = {AdaAttN_style_loss:.6f}\")\n"
   ]
  }
 ],
 "metadata": {
  "language_info": {
   "name": "python"
  }
 },
 "nbformat": 4,
 "nbformat_minor": 2
}
