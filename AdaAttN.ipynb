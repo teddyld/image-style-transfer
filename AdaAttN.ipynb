{
 "cells": [
  {
   "cell_type": "markdown",
   "metadata": {},
   "source": [
    "# AdaAttN Style Transfer\n",
    "\n",
    "This notebook demonstrates the use of the AdaAttN model for style transfer.\n",
    "\n",
    "## Imports"
   ]
  },
  {
   "cell_type": "code",
   "execution_count": 18,
   "metadata": {},
   "outputs": [],
   "source": [
    "\n",
    "import torch\n",
    "import torch.nn as nn\n",
    "import utils.data as data\n",
    "from utils.eval import compute_ssim, plot_results\n",
    "from models import AdaAttN\n",
    "\n",
    "device = torch.device(\"cuda\" if torch.cuda.is_available() else \"cpu\")\n"
   ]
  },
  {
   "cell_type": "markdown",
   "metadata": {},
   "source": [
    "# Dataset and Dataloaders"
   ]
  },
  {
   "cell_type": "code",
   "execution_count": 19,
   "metadata": {},
   "outputs": [],
   "source": [
    "import torchvision.transforms as transforms\n",
    "\n",
    "val_tf = transforms.Compose([\n",
    "    transforms.Resize(size=(128, 128)),\n",
    "    transforms.ToTensor(),\n",
    "])\n",
    "\n",
    "_, content_validloader, _, _, style_validloader, _ = data.get_dataloaders(bs=64, valid_tf=val_tf)\n"
   ]
  },
  {
   "cell_type": "markdown",
   "metadata": {},
   "source": [
    "# Load Pretrained Models"
   ]
  },
  {
   "cell_type": "code",
   "execution_count": 28,
   "metadata": {},
   "outputs": [
    {
     "name": "stderr",
     "output_type": "stream",
     "text": [
      "/var/folders/f3/7tmvf_8j1sl6fzkq25gtjg0m0000gn/T/ipykernel_4015/4206037687.py:6: FutureWarning: You are using `torch.load` with `weights_only=False` (the current default value), which uses the default pickle module implicitly. It is possible to construct malicious pickle data which will execute arbitrary code during unpickling (See https://github.com/pytorch/pytorch/blob/main/SECURITY.md#untrusted-models for more details). In a future release, the default value for `weights_only` will be flipped to `True`. This limits the functions that could be executed during unpickling. Arbitrary objects will no longer be allowed to be loaded via this mode unless they are explicitly allowlisted by the user via `torch.serialization.add_safe_globals`. We recommend you start setting `weights_only=True` for any use case where you don't have full control of the loaded file. Please open an issue on GitHub for any issues related to this experimental feature.\n",
      "  net_decoder = torch.load(\"models/output/AdaAttN/latest_net_decoder.pth\")\n"
     ]
    },
    {
     "ename": "RuntimeError",
     "evalue": "Error(s) in loading state_dict for Decoder:\n\tsize mismatch for decoder_layer_2.1.weight: copying a param with shape torch.Size([256, 512, 3, 3]) from checkpoint, the shape in current model is torch.Size([256, 256, 3, 3]).",
     "output_type": "error",
     "traceback": [
      "\u001b[0;31m---------------------------------------------------------------------------\u001b[0m",
      "\u001b[0;31mRuntimeError\u001b[0m                              Traceback (most recent call last)",
      "Cell \u001b[0;32mIn[28], line 7\u001b[0m\n\u001b[1;32m      4\u001b[0m \u001b[38;5;66;03m# Load pretrained weights if available\u001b[39;00m\n\u001b[1;32m      5\u001b[0m \u001b[38;5;66;03m# decoder.load_state_dict(torch.load(\"models/output/AdaAttN/latest_net_decoder.pth\"))\u001b[39;00m\n\u001b[1;32m      6\u001b[0m net_decoder \u001b[38;5;241m=\u001b[39m torch\u001b[38;5;241m.\u001b[39mload(\u001b[38;5;124m\"\u001b[39m\u001b[38;5;124mmodels/output/AdaAttN/latest_net_decoder.pth\u001b[39m\u001b[38;5;124m\"\u001b[39m)\n\u001b[0;32m----> 7\u001b[0m \u001b[43mdecoder\u001b[49m\u001b[38;5;241;43m.\u001b[39;49m\u001b[43mload_state_dict\u001b[49m\u001b[43m(\u001b[49m\u001b[43mnet_decoder\u001b[49m\u001b[43m)\u001b[49m\n\u001b[1;32m      9\u001b[0m vgg\u001b[38;5;241m.\u001b[39mload_state_dict(torch\u001b[38;5;241m.\u001b[39mload(\u001b[38;5;124m\"\u001b[39m\u001b[38;5;124mmodels/output/AdaAttN/vgg_normalised.pth\u001b[39m\u001b[38;5;124m\"\u001b[39m))\n\u001b[1;32m     10\u001b[0m vgg \u001b[38;5;241m=\u001b[39m nn\u001b[38;5;241m.\u001b[39mSequential(\u001b[38;5;241m*\u001b[39m\u001b[38;5;28mlist\u001b[39m(vgg\u001b[38;5;241m.\u001b[39mchildren())[:\u001b[38;5;241m31\u001b[39m])\n",
      "File \u001b[0;32m~/miniconda3/envs/comp9444/lib/python3.12/site-packages/torch/nn/modules/module.py:2215\u001b[0m, in \u001b[0;36mModule.load_state_dict\u001b[0;34m(self, state_dict, strict, assign)\u001b[0m\n\u001b[1;32m   2210\u001b[0m         error_msgs\u001b[38;5;241m.\u001b[39minsert(\n\u001b[1;32m   2211\u001b[0m             \u001b[38;5;241m0\u001b[39m, \u001b[38;5;124m'\u001b[39m\u001b[38;5;124mMissing key(s) in state_dict: \u001b[39m\u001b[38;5;132;01m{}\u001b[39;00m\u001b[38;5;124m. \u001b[39m\u001b[38;5;124m'\u001b[39m\u001b[38;5;241m.\u001b[39mformat(\n\u001b[1;32m   2212\u001b[0m                 \u001b[38;5;124m'\u001b[39m\u001b[38;5;124m, \u001b[39m\u001b[38;5;124m'\u001b[39m\u001b[38;5;241m.\u001b[39mjoin(\u001b[38;5;124mf\u001b[39m\u001b[38;5;124m'\u001b[39m\u001b[38;5;124m\"\u001b[39m\u001b[38;5;132;01m{\u001b[39;00mk\u001b[38;5;132;01m}\u001b[39;00m\u001b[38;5;124m\"\u001b[39m\u001b[38;5;124m'\u001b[39m \u001b[38;5;28;01mfor\u001b[39;00m k \u001b[38;5;129;01min\u001b[39;00m missing_keys)))\n\u001b[1;32m   2214\u001b[0m \u001b[38;5;28;01mif\u001b[39;00m \u001b[38;5;28mlen\u001b[39m(error_msgs) \u001b[38;5;241m>\u001b[39m \u001b[38;5;241m0\u001b[39m:\n\u001b[0;32m-> 2215\u001b[0m     \u001b[38;5;28;01mraise\u001b[39;00m \u001b[38;5;167;01mRuntimeError\u001b[39;00m(\u001b[38;5;124m'\u001b[39m\u001b[38;5;124mError(s) in loading state_dict for \u001b[39m\u001b[38;5;132;01m{}\u001b[39;00m\u001b[38;5;124m:\u001b[39m\u001b[38;5;130;01m\\n\u001b[39;00m\u001b[38;5;130;01m\\t\u001b[39;00m\u001b[38;5;132;01m{}\u001b[39;00m\u001b[38;5;124m'\u001b[39m\u001b[38;5;241m.\u001b[39mformat(\n\u001b[1;32m   2216\u001b[0m                        \u001b[38;5;28mself\u001b[39m\u001b[38;5;241m.\u001b[39m\u001b[38;5;18m__class__\u001b[39m\u001b[38;5;241m.\u001b[39m\u001b[38;5;18m__name__\u001b[39m, \u001b[38;5;124m\"\u001b[39m\u001b[38;5;130;01m\\n\u001b[39;00m\u001b[38;5;130;01m\\t\u001b[39;00m\u001b[38;5;124m\"\u001b[39m\u001b[38;5;241m.\u001b[39mjoin(error_msgs)))\n\u001b[1;32m   2217\u001b[0m \u001b[38;5;28;01mreturn\u001b[39;00m _IncompatibleKeys(missing_keys, unexpected_keys)\n",
      "\u001b[0;31mRuntimeError\u001b[0m: Error(s) in loading state_dict for Decoder:\n\tsize mismatch for decoder_layer_2.1.weight: copying a param with shape torch.Size([256, 512, 3, 3]) from checkpoint, the shape in current model is torch.Size([256, 256, 3, 3])."
     ]
    }
   ],
   "source": [
    "decoder = AdaAttN.Decoder()\n",
    "vgg = AdaAttN.vgg\n",
    "\n",
    "# Load pretrained weights if available\n",
    "# decoder.load_state_dict(torch.load(\"models/output/AdaAttN/latest_net_decoder.pth\"))\n",
    "net_decoder = torch.load(\"models/output/AdaAttN/latest_net_decoder.pth\")\n",
    "decoder.load_state_dict(net_decoder)\n",
    "\n",
    "vgg.load_state_dict(torch.load(\"models/output/AdaAttN/vgg_normalised.pth\"))\n",
    "vgg = nn.Sequential(*list(vgg.children())[:31])\n",
    "\n",
    "decoder.to(device)\n",
    "vgg.to(device)\n",
    "\n",
    "model = AdaAttN.AdaAttnModel(decoder, vgg, in_planes=512, key_planes=512)\n",
    "model.to(device)\n"
   ]
  },
  {
   "cell_type": "markdown",
   "metadata": {},
   "source": [
    "# Model Evaluation Functions"
   ]
  },
  {
   "cell_type": "code",
   "execution_count": null,
   "metadata": {},
   "outputs": [],
   "source": [
    "def evaluate_model(model, content_loader, style_loader):\n",
    "    model.eval()\n",
    "    total_samples = 0\n",
    "    running_content_loss, running_style_loss = 0.0, 0.0\n",
    "    with torch.no_grad():\n",
    "        for content, style in zip(content_loader, style_loader):\n",
    "            content_images = content.to(device)\n",
    "            style_images, style_labels = style\n",
    "            style_images, style_labels = style_images.to(device), style_labels.to(device)\n",
    "            \n",
    "            stylized_images = model(content_images, style_images)\n",
    "            \n",
    "            content_loss = model.calc_content_loss(stylized_images, content_images)\n",
    "            style_loss = model.calc_style_loss(stylized_images, style_images)\n",
    "            \n",
    "            running_content_loss += content_loss.item()\n",
    "            running_style_loss += style_loss.item()\n",
    "            \n",
    "            if total_samples == 0:\n",
    "                plot_results(content_images, style_images, style_labels, stylized_images)\n",
    "            total_samples += style_labels.size(0)\n",
    "            \n",
    "    avg_ssim = compute_ssim(content_images, stylized_images) / total_samples\n",
    "    avg_content_loss = running_content_loss / total_samples\n",
    "    avg_style_loss = running_style_loss / total_samples\n",
    "    return avg_ssim, avg_content_loss, avg_style_loss\n"
   ]
  },
  {
   "cell_type": "markdown",
   "metadata": {},
   "source": [
    "# Results"
   ]
  },
  {
   "cell_type": "code",
   "execution_count": null,
   "metadata": {},
   "outputs": [
    {
     "ename": "NameError",
     "evalue": "name 'model' is not defined",
     "output_type": "error",
     "traceback": [
      "\u001b[0;31m---------------------------------------------------------------------------\u001b[0m",
      "\u001b[0;31mNameError\u001b[0m                                 Traceback (most recent call last)",
      "Cell \u001b[0;32mIn[26], line 1\u001b[0m\n\u001b[0;32m----> 1\u001b[0m AdaAttN_ssim, AdaAttN_content_loss, AdaAttN_style_loss \u001b[38;5;241m=\u001b[39m evaluate_model(\u001b[43mmodel\u001b[49m, content_validloader, style_validloader)\n\u001b[1;32m      2\u001b[0m \u001b[38;5;28mprint\u001b[39m(\u001b[38;5;124m\"\u001b[39m\u001b[38;5;124m--- AdaAttN results ---\u001b[39m\u001b[38;5;124m\"\u001b[39m)\n\u001b[1;32m      3\u001b[0m \u001b[38;5;28mprint\u001b[39m(\u001b[38;5;124mf\u001b[39m\u001b[38;5;124m'\u001b[39m\u001b[38;5;124mAverage SSIM = \u001b[39m\u001b[38;5;132;01m{\u001b[39;00mAdaAttN_ssim\u001b[38;5;132;01m:\u001b[39;00m\u001b[38;5;124m .4f\u001b[39m\u001b[38;5;132;01m}\u001b[39;00m\u001b[38;5;124m'\u001b[39m)\n",
      "\u001b[0;31mNameError\u001b[0m: name 'model' is not defined"
     ]
    }
   ],
   "source": [
    "AdaAttN_ssim, AdaAttN_content_loss, AdaAttN_style_loss = evaluate_model(model, content_validloader, style_validloader)\n",
    "print(\"--- AdaAttN results ---\")\n",
    "print(f'Average SSIM = {AdaAttN_ssim: .4f}')\n",
    "print(f\"Average content loss = {AdaAttN_content_loss:.4f}\")\n",
    "print(f\"Average style loss = {AdaAttN_style_loss:.6f}\")\n"
   ]
  }
 ],
 "metadata": {
  "kernelspec": {
   "display_name": "comp9444",
   "language": "python",
   "name": "python3"
  },
  "language_info": {
   "codemirror_mode": {
    "name": "ipython",
    "version": 3
   },
   "file_extension": ".py",
   "mimetype": "text/x-python",
   "name": "python",
   "nbconvert_exporter": "python",
   "pygments_lexer": "ipython3",
   "version": "3.12.4"
  }
 },
 "nbformat": 4,
 "nbformat_minor": 2
}
