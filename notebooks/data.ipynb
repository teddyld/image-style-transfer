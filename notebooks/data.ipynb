{
 "cells": [
  {
   "cell_type": "markdown",
   "metadata": {},
   "source": [
    "# Data"
   ]
  },
  {
   "cell_type": "markdown",
   "metadata": {},
   "source": [
    "## Imports and Definitions"
   ]
  },
  {
   "cell_type": "code",
   "execution_count": null,
   "metadata": {},
   "outputs": [],
   "source": [
    "from torch.utils.data import Dataset, DataLoader\n",
    "import os\n",
    "import random\n",
    "from tqdm import tqdm\n",
    "from sklearn.model_selection import train_test_split\n",
    "import shutil\n",
    "from PIL import Image\n",
    "import torch.nn.functional as F\n",
    "import torch\n",
    "import matplotlib.pyplot as plt\n",
    "\n",
    "COCO2014_DATA_PATH = '../data/coco2014/'\n",
    "WIKIART_DATA_PATH = '../data/wikiart/'\n",
    "STYLE_PATH = '../data/style'\n",
    "\n",
    "WIKIART_STYLE_MAP = {\n",
    "    'Baroque': 1,\n",
    "    'Cubism': 2,\n",
    "    'Early_Renaissance': 3,\n",
    "    'Pointillism': 4,\n",
    "    'Ukiyo_e': 5,\n",
    "}\n",
    "\n",
    "WIKIART_STYLE_ONEHOT = F.one_hot(torch.arange(0, 5), num_classes=5)"
   ]
  },
  {
   "cell_type": "markdown",
   "metadata": {},
   "source": [
    "## Data Pre-processing"
   ]
  },
  {
   "cell_type": "code",
   "execution_count": null,
   "metadata": {},
   "outputs": [],
   "source": [
    "\"\"\"\n",
    "Initial Data structure\n",
    "/data\n",
    "    /coco2014\n",
    "        /annotations\n",
    "        /images\n",
    "            /test2014\n",
    "            /train2014\n",
    "            /val2014\n",
    "        /labels\n",
    "    /wikiart\n",
    "        /Abstract_Expressionism\n",
    "            /aaron-siskind_acolman-1-1955.jpg\n",
    "            ...\n",
    "        /Action_painting\n",
    "        ...\n",
    "        /Ukiyo_e\n",
    "        /classes.csv\n",
    "        /wclasses.csv\n",
    "        \n",
    "Target Data structure\n",
    "/data\n",
    "    /coco2014\n",
    "        /annotations\n",
    "        /images\n",
    "            /test2014\n",
    "            /train2014\n",
    "            /val2014\n",
    "        /labels\n",
    "    /style\n",
    "        /test\n",
    "        /train\n",
    "        /val\n",
    "\"\"\""
   ]
  },
  {
   "cell_type": "markdown",
   "metadata": {},
   "source": [
    "#### a) Flatten WikiArt Dataset"
   ]
  },
  {
   "cell_type": "code",
   "execution_count": null,
   "metadata": {},
   "outputs": [],
   "source": [
    "def flatten_data(include=['Cubism', 'Baroque', 'Early_Renaissance', 'Pointillism', 'Ukiyo_e'], src=WIKIART_DATA_PATH):\n",
    "    \"\"\"\n",
    "    Given a directory src, unpack the contents of its sub-directories into the directory src. Only the names of the sub-directories in the 'include' list are unpacked\n",
    "    \"\"\"\n",
    "    subdirs = [dir for dir in os.listdir(src) if os.path.isdir(os.path.join(src, dir)) and dir in include]\n",
    "\n",
    "    for dir in subdirs:\n",
    "        subdir_path = os.path.join(src, dir)\n",
    "        files = os.listdir(subdir_path)\n",
    "        loop = tqdm(files)\n",
    "        loop.set_description(f'Unpacking sub-directory {dir}')\n",
    "        for file in loop:\n",
    "            # Prepend the style class the file is from\n",
    "            os.rename(os.path.join(subdir_path, file), os.path.join(src, dir + '_' + file))\n",
    "            \n",
    "        os.rmdir(subdir_path)"
   ]
  },
  {
   "cell_type": "code",
   "execution_count": null,
   "metadata": {},
   "outputs": [],
   "source": [
    "flatten_data()"
   ]
  },
  {
   "cell_type": "markdown",
   "metadata": {},
   "source": [
    "#### b) Create WikiArt data splits"
   ]
  },
  {
   "cell_type": "code",
   "execution_count": null,
   "metadata": {},
   "outputs": [],
   "source": [
    "def make_split(src, dest, files, ttv):\n",
    "    \"\"\"\n",
    "    Write files from src to dest\n",
    "    \"\"\"\n",
    "    loop = tqdm(files, total=len(files))\n",
    "    loop.set_description(f\"Writing {ttv} split\")\n",
    "    for file in loop:\n",
    "        src_path = os.path.join(src, file)\n",
    "        dest_path = os.path.join(dest, file)\n",
    "        shutil.copyfile(src_path, dest_path)\n",
    "\n",
    "def split_data(src, dest, split_size=0.8, max_files=30000, random_seed=42):\n",
    "    \"\"\"\n",
    "    Given a directory src, create train, val, and test split directories in directory dest\n",
    "    \"\"\"\n",
    "    random.seed(random_seed)\n",
    "    if not (0 < split_size < 1):\n",
    "        raise ValueError(f\"split_size must be between 0 and 1. Got: {split_size}\")\n",
    "    \n",
    "    all_files = [file for file in os.listdir(src) if file.endswith('.jpg')]\n",
    "    \n",
    "    if not all_files:\n",
    "        raise ValueError(f\"src directory did not contain any files\")\n",
    "    \n",
    "    \n",
    "    if len(all_files) > max_files:\n",
    "        all_files = all_files[:max_files]\n",
    "        \n",
    "    random.shuffle(all_files)\n",
    "        \n",
    "    train_files, remaining_files = train_test_split(all_files, train_size=split_size, random_state=random_seed)\n",
    "    \n",
    "    validation_files, test_files = train_test_split(remaining_files, test_size=0.5, random_state=random_seed)\n",
    "    \n",
    "    # Make destination directories\n",
    "    split = ['train', 'val', 'test']\n",
    "    \n",
    "    for ttv in split:\n",
    "        split_path = os.path.join(dest, ttv)\n",
    "        if os.path.exists(split_path):\n",
    "            shutil.rmtree(split_path)\n",
    "        \n",
    "        os.makedirs(split_path, exist_ok=True)\n",
    "        \n",
    "    make_split(src, os.path.join(dest, 'train'), train_files, 'train')\n",
    "    make_split(src, os.path.join(dest, 'val'), validation_files, 'val')\n",
    "    make_split(src, os.path.join(dest, 'test'), test_files, 'test')\n",
    "    "
   ]
  },
  {
   "cell_type": "code",
   "execution_count": null,
   "metadata": {},
   "outputs": [],
   "source": [
    "split_data(WIKIART_DATA_PATH, STYLE_PATH, 0.8)"
   ]
  },
  {
   "cell_type": "markdown",
   "metadata": {},
   "source": [
    "## Dataset and DataLoaders"
   ]
  },
  {
   "cell_type": "code",
   "execution_count": null,
   "metadata": {},
   "outputs": [],
   "source": [
    "class COCO2014(Dataset):\n",
    "    def __init__(self, split, max_files, transform=None):\n",
    "        if split not in ['train', 'val', 'test']:\n",
    "            raise ValueError(f\"split must be 'train', 'val', or 'test'. Got: {split}\")\n",
    "        \n",
    "        split = split + '2014'\n",
    "        self.image_path = os.path.join(COCO2014_DATA_PATH, 'images', split)\n",
    "        images = os.listdir(self.image_path)\n",
    "        \n",
    "        if len(images) > max_files:\n",
    "            images = images[:max_files]\n",
    "        \n",
    "        self.images = images\n",
    "        self.length = len(images)\n",
    "        self.transform = transform\n",
    "        \n",
    "    def __len__(self):\n",
    "        return self.length\n",
    "    \n",
    "    def __getitem__(self, idx):\n",
    "        img_name = self.images[idx]\n",
    "        img = Image.open(os.path.join(self.image_path, img_name)).convert('RGB')\n",
    "        \n",
    "        if self.transform:\n",
    "            img = self.transform(img)\n",
    "\n",
    "        return img\n",
    "\n",
    "class StyleDataset(Dataset):\n",
    "    def __init__(self, ttv, transform=None):\n",
    "        self.image_path = os.path.join(STYLE_PATH, ttv)\n",
    "        self.images = os.listdir(self.image_path)\n",
    "        self.transform = transform\n",
    "\n",
    "    def __len__(self):\n",
    "        return len(self.images)\n",
    "    \n",
    "    def __getitem__(self, idx):\n",
    "        img_name = self.images[idx]\n",
    "        img = Image.open(os.path.join(self.image_path, img_name)).convert('RGB')\n",
    "\n",
    "        img_style = [s for s in img_name.split('_') if s[0].isupper() or (s[0] == 'e' and len(s) == 1)]\n",
    "        label = WIKIART_STYLE_MAP[\"_\".join(img_style)]\n",
    "\n",
    "        if self.transform:\n",
    "            img = self.transform(img)\n",
    "            \n",
    "        return img, label"
   ]
  },
  {
   "cell_type": "code",
   "execution_count": null,
   "metadata": {},
   "outputs": [],
   "source": [
    "import torchvision.transforms as transforms\n",
    "\n",
    "train_tf = transforms.Compose([\n",
    "    transforms.Resize(size=(128, 128)),\n",
    "    transforms.RandomCrop(64),\n",
    "    transforms.ToTensor(),\n",
    "])\n",
    "\n",
    "val_tf = transforms.Compose([\n",
    "    transforms.Resize(size=(64, 64)),\n",
    "    transforms.ToTensor(),\n",
    "])"
   ]
  },
  {
   "cell_type": "code",
   "execution_count": null,
   "metadata": {},
   "outputs": [],
   "source": [
    "content_trainset = COCO2014('train', 24000, train_tf)\n",
    "content_validset = COCO2014('val', 3000, val_tf)\n",
    "style_trainset = StyleDataset('train', transform=train_tf)\n",
    "style_validset = StyleDataset('val', transform=val_tf)\n",
    "\n",
    "content_trainloader = DataLoader(content_trainset, 64, shuffle=True)\n",
    "content_validloader = DataLoader(content_validset, 64, shuffle=False)\n",
    "style_trainloader = DataLoader(style_trainset, 64, shuffle=True)\n",
    "style_validloader = DataLoader(style_validset, 64, shuffle=False)"
   ]
  },
  {
   "cell_type": "markdown",
   "metadata": {},
   "source": [
    "## Data Sources and Exploratory Analysis of Data\n",
    "\n",
    "### Data Sources\n",
    "\n",
    "The COCO 2014 Dataset on [Kaggle](https://www.kaggle.com/datasets/jeffaudi/coco-2014-dataset-for-yolov3/) is a popular dataset developed by [Lin et al.](https://arxiv.org/pdf/1405.0312) with 80 classes, 82,783 training and 40,504 validation images in RGB format. During image collection, the authors filtered out iconic images in favour of non-iconic images. Iconic images are characterised by single large objects in a canonical perspective centered in the image. Evidently, research from [Torralba and Efros](https://ieeexplore-ieee-org.wwwproxy1.library.unsw.edu.au/document/5995347) indicates that a lack of contextual information and non-canonical viewpoints in iconic images may lead to decreased generalization of datasets from capture bias and negative set bias. Therefore, by removing iconic images, the COCO dataset is well-generalised and provides rich contextual relationships between objects in their natural environments. For the task of image style transfer, the COCO 2014 dataset is an exceptional source for 'content' images. Chiefly, the prevalance of non-iconic images provide diverse structural features which challenge the robustness and efficacy of style transfer model performance. For example, models like AdaAttn and MAST hyper-fixate on local structure leading to style leakage [(Xu et al.)](https://arxiv.org/abs/2304.00414). Contributing to the diverse structural features is the breadth of object classes collected for this dataset which will challenge a model's ability to generalize.\n",
    "\n",
    "The WikiArt Dataset accessed from [Kaggle](https://www.kaggle.com/datasets/steubk/wikiart) is dataset of 80,020 images from 1119 different artists with 27 distinct styles classes. The images are sourced from WikiArt.org, an encylopedia of art. Combined, the 27 styles classes offer a wide range of unique salient features ranging from the small visible brushstrokes of 'Impressionism', the vibrant and bold colouring of 'Fauvism' to visually blending of small dots of colour which define 'Pointillism'. For the task of image style transfer, the WikiArt dataset is a standard benchmark for 'style' images used across research. The large number of classes alongside the depth of salient features makes WikiArt useful in evaluating the robustness and reliability of transferring artistic styles while preserving style patterns. The quantity of style classes will negatively affect model performance as well as dramatically increase the cost of computation. Hence, we reduce the number of style classes we consider to five: Cubism, Pointillism, Baroque, Early_Renaissance, and Ukiyo_e. We have loosely selected these styles based on the criteria of uniqueness and within-class consistency of style."
   ]
  },
  {
   "cell_type": "code",
   "execution_count": null,
   "metadata": {},
   "outputs": [],
   "source": [
    "def plot_dataset(loader, title, styleset=False):\n",
    "    \"\"\"\n",
    "    Plot images from a batch of a DataLoader\n",
    "    Args:\n",
    "        loader (iterable) - a Pytorch DataLoader class\n",
    "    \"\"\"\n",
    "    fig, axes = plt.subplots(nrows=2, ncols=4, figsize=(10, 5), subplot_kw={'xticks': [], 'yticks': []})\n",
    "    for batch in loader:\n",
    "        for i, ax in enumerate(axes.flat):\n",
    "            if styleset:\n",
    "                images, labels = batch\n",
    "                label = list(WIKIART_STYLE_MAP.keys())[list(WIKIART_STYLE_MAP.values()).index(labels[i])]\n",
    "                ax.set_title(label)\n",
    "            else:\n",
    "                images = batch\n",
    "            image = images[i].permute(1, 2, 0)\n",
    "            ax.imshow(image)\n",
    "        break\n",
    "\n",
    "    fig.suptitle(title)\n",
    "    plt.tight_layout()\n",
    "    plt.show()\n",
    "    \n",
    "plot_dataset(content_trainloader, 'COCO2014 Data')\n",
    "plot_dataset(style_trainloader, 'WikiArt Data', styleset=True)"
   ]
  },
  {
   "cell_type": "markdown",
   "metadata": {},
   "source": [
    "### Exploratory Data Analysis\n",
    "\n",
    "#### Examining structural features using Canny edge detection\n",
    "\n",
    "Canny edge detection is an edge detection technique that extracts structural information from images. We utilise the function `skimage.feature.canny()` implemented in the scikit-image library to qualitatively display the structural features of images. The function uses the following steps:\n",
    "\n",
    "1. A Gaussian blur with standard deviation of the Gaussian kernel equal to `sigma` to reduce image noise\n",
    "2. Sobel edge detection to get the gradients in the image. By convolving with the 3x3 Sobel kernel, the algorithm estimates the gradient magnitude and direction between regions of low and high intensity, emphasising the edges.\n",
    "3. Apply non-maximum suppression to remove pixels far from edges \n",
    "4. Hysteresis thresholding is applied, labelling all points above the high threshold value as edges and recursively labelling any point above the low threshold value connected to a labeled point as an edge.\n",
    "\n",
    "By comparing the image output of the style transfer with its content image source, we qualitatively evaluate the change in structural features. Indicators of performant style transfer are consistent global structure between the output and content input images by examining object alignment and shape. Furthermore, small local details in the content image should not be ignored. "
   ]
  },
  {
   "cell_type": "code",
   "execution_count": null,
   "metadata": {},
   "outputs": [],
   "source": [
    "from skimage import feature\n",
    "\n",
    "# Get random image from content dataset\n",
    "images = next(iter(content_trainloader))\n",
    "random_index = random.randint(0, len(images) - 1)\n",
    "img = images[random_index]\n",
    "\n",
    "def plot_canny_edges(img, sigma=1):\n",
    "  \"\"\"\n",
    "  Apply canny edge detection to the image with 'sigma' parameter\n",
    "  \"\"\"\n",
    "  fig, ax = plt.subplots(1, 2, figsize=(15, 15))\n",
    "  \n",
    "  # Change view to (height, width, channels)\n",
    "  img = img.permute(1, 2, 0)\n",
    "  ax[0].imshow(img)\n",
    "  \n",
    "  # Convert tensor to numpy and single channel\n",
    "  img = img.numpy()[:, :, 0]\n",
    "  ax[1].imshow(feature.canny(img, sigma=sigma), cmap=\"gray\")\n",
    "\n",
    "plot_canny_edges(img)"
   ]
  },
  {
   "cell_type": "markdown",
   "metadata": {},
   "source": [
    "#### The characteristics and properties of styles\n",
    "\n",
    "In this section, we explain the characteristics and properties of the five style classes selected as well as illustrate these images by plotting them without alteration from the original source."
   ]
  },
  {
   "cell_type": "code",
   "execution_count": null,
   "metadata": {},
   "outputs": [],
   "source": [
    "def plot_style(style):\n",
    "    \"\"\"\n",
    "    Plot four random images with the provided style in the train directory\n",
    "    \"\"\"\n",
    "    style_images = [img for img in os.listdir(os.path.join(STYLE_PATH, 'train')) if img.startswith(style)]\n",
    "\n",
    "    fig, axes = plt.subplots(1, 4, figsize=(10, 5), subplot_kw={'xticks': [], 'yticks': []})\n",
    "    fig.suptitle(f\"Style - {style}\")\n",
    "    for i, img in enumerate(style_images[:4]):\n",
    "        axes[i].imshow(Image.open(os.path.join(STYLE_PATH, 'train', img)).convert('RGB'))\n",
    "\n",
    "    plt.show()"
   ]
  },
  {
   "cell_type": "markdown",
   "metadata": {},
   "source": [
    "##### a) Cubism\n",
    "\n",
    "Cubism, popularised by artists such as Pablo Picasso and Georges Braque in the 20th century is a style of art characterised by its use of interweaving planes and lines to depict abstract objects. Notably, Cubism art lacks form, and often, the arrangement of simple planes merges the foreground and background. Artworks in Cubism use muted tones of blacks and grays or use bright and solid colours. \n",
    "\n",
    "The Cubism class contains 2235 images."
   ]
  },
  {
   "cell_type": "code",
   "execution_count": null,
   "metadata": {},
   "outputs": [],
   "source": [
    "plot_style('Cubism')"
   ]
  },
  {
   "cell_type": "markdown",
   "metadata": {},
   "source": [
    "##### b) Pointillism"
   ]
  },
  {
   "cell_type": "markdown",
   "metadata": {},
   "source": [
    "Artworks in the style of Pointillism are defined by their distinct painting technique, utilising small dots of colour so that from a distance, they visually blend together to form a vibrant composition. \n",
    "\n",
    "The Pointillism class contains 513 images. "
   ]
  },
  {
   "cell_type": "code",
   "execution_count": null,
   "metadata": {},
   "outputs": [],
   "source": [
    "plot_style('Pointillism')"
   ]
  },
  {
   "cell_type": "markdown",
   "metadata": {},
   "source": [
    "##### c) Baroque\n",
    "\n",
    "The Baroque style refers to artworks derived from Europe from the early 17th to mid-18th century. Artworks of this style are associated with deep colors, dramatic light, sharp shadows, and dark backgrounds. \n",
    "\n",
    "The Baroque class contains 4240 images."
   ]
  },
  {
   "cell_type": "code",
   "execution_count": null,
   "metadata": {},
   "outputs": [],
   "source": [
    "plot_style('Baroque')"
   ]
  },
  {
   "cell_type": "markdown",
   "metadata": {},
   "source": [
    "##### d) Early Renaissance"
   ]
  },
  {
   "cell_type": "markdown",
   "metadata": {},
   "source": [
    "Artworks in the Early Renaissance period are characterised by the realistic depiction of human anatomy and space from mythology and religion. The paintings of this period use muted colours whilst sculptures of human forms are made of bronze and marble. \n",
    "\n",
    "The Early Renaissance class contains 1391 images.  "
   ]
  },
  {
   "cell_type": "code",
   "execution_count": null,
   "metadata": {},
   "outputs": [],
   "source": [
    "plot_style('Early Renaissance')"
   ]
  },
  {
   "cell_type": "markdown",
   "metadata": {},
   "source": [
    "##### e) Ukiyo-e"
   ]
  },
  {
   "cell_type": "markdown",
   "metadata": {},
   "source": [
    "Ukiyo-e refers to a style of Japanese paintings and woodblock prints from the Edo period. The style is defined by its bold and flat brush strokes, asymmetric composition, and unusual graphical perspective. In stark contrast, the artwork is complimented by its colourfulness in depictions of flora and fauna. Furthermore, artworks of this style often contain text, written with black or red ink. The text stands prominently against the style's generous use of negative space as the artwork's background is often only painted with a single colour.\n",
    "\n",
    "The Ukiyo-e class contains 1167 images."
   ]
  },
  {
   "cell_type": "code",
   "execution_count": null,
   "metadata": {},
   "outputs": [],
   "source": [
    "plot_style('Ukiyo_e')"
   ]
  }
 ],
 "metadata": {
  "kernelspec": {
   "display_name": "projects",
   "language": "python",
   "name": "python3"
  },
  "language_info": {
   "codemirror_mode": {
    "name": "ipython",
    "version": 3
   },
   "file_extension": ".py",
   "mimetype": "text/x-python",
   "name": "python",
   "nbconvert_exporter": "python",
   "pygments_lexer": "ipython3",
   "version": "3.10.11"
  }
 },
 "nbformat": 4,
 "nbformat_minor": 2
}
