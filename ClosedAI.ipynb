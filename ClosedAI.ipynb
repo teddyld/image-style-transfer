{
 "cells": [
  {
   "cell_type": "markdown",
   "metadata": {},
   "source": [
    "# Group name: ClosedAI\n",
    "Project ID: 043\n",
    "Project: Images Style Transfer\n",
    "\n",
    "\n",
    "| Name    | Email | Student ID |\n",
    "| -------- | ------- | ------- |\n",
    "| Elijah Maron  | z5372352@ad.unsw.edu.au   | z5372352\n",
    "| Hari Birudavolu | z5419889@ad.unsw.edu.au     | z5419889\n",
    "| Michael Girikallo    | z5416925@ad.unsw.edu.au   | z5416925\n",
    "| Tianshuo Xu    | z5358205@ad.unsw.edu.au   | z5358205\n",
    "| Vincent Pham    | z5363266@ad.unsw.edu.au   | z5363266\n",
    "\n",
    "Codebase available on [GitHub](https://github.com/teddyld/image-style-transfer)"
   ]
  },
  {
   "cell_type": "markdown",
   "metadata": {},
   "source": [
    "# Table of Contents\n",
    "\n",
    "1. "
   ]
  },
  {
   "cell_type": "code",
   "execution_count": null,
   "metadata": {},
   "outputs": [],
   "source": []
  }
 ],
 "metadata": {
  "language_info": {
   "name": "python"
  }
 },
 "nbformat": 4,
 "nbformat_minor": 2
}
